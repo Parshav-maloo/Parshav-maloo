{
  "nbformat": 4,
  "nbformat_minor": 0,
  "metadata": {
    "colab": {
      "name": "Rest api.ipynb",
      "provenance": [],
      "authorship_tag": "ABX9TyM4t9Pis9aFIHZEr5AoUYaL",
      "include_colab_link": true
    },
    "kernelspec": {
      "name": "python3",
      "display_name": "Python 3"
    },
    "language_info": {
      "name": "python"
    }
  },
  "cells": [
    {
      "cell_type": "markdown",
      "metadata": {
        "id": "view-in-github",
        "colab_type": "text"
      },
      "source": [
        "<a href=\"https://colab.research.google.com/github/Parshav-maloo/Parshav-maloo/blob/main/Rest_api.ipynb\" target=\"_parent\"><img src=\"https://colab.research.google.com/assets/colab-badge.svg\" alt=\"Open In Colab\"/></a>"
      ]
    },
    {
      "cell_type": "markdown",
      "source": [
        "# *Rest Api*"
      ],
      "metadata": {
        "id": "Xu8Iw6Ovt3Jl"
      }
    },
    {
      "cell_type": "code",
      "execution_count": 1,
      "metadata": {
        "colab": {
          "base_uri": "https://localhost:8080/"
        },
        "id": "y1YE3GLOkVp_",
        "outputId": "d3065b2a-29ef-4d0a-aabe-c4c0ac00bce7"
      },
      "outputs": [
        {
          "output_type": "stream",
          "name": "stdout",
          "text": [
            "['UK votes to leave EU', 'F.C.C. Repeals Net Neutrality Rules']\n"
          ]
        }
      ],
      "source": [
        "import math\n",
        "import os\n",
        "import random\n",
        "import re\n",
        "import sys\n",
        "import requests as rq\n",
        "def topArticles(limit):\n",
        "  \n",
        "    page = 0\n",
        "    articles = []\n",
        "    while True:\n",
        "        page += 1\n",
        "        path =f\"https://jsonmock.hackerrank.com/api/articles?page={page}\"\n",
        "        r = rq.get(path)\n",
        "        res = r.json()['data']\n",
        "        if not res:\n",
        "            break\n",
        "        for atc in res:\n",
        "            atc_info = dict()\n",
        "            if atc['title'] is None and atc['story_title'] is None:\n",
        "                continue\n",
        "            elif atc['title'] is None:\n",
        "                atc_info['title'] = atc['story_title']\n",
        "            else:\n",
        "                atc_info['title'] = atc['title']\n",
        "            if atc['num_comments'] is None:\n",
        "                atc_info['num_comments'] = 0\n",
        "            else:\n",
        "                atc_info['num_comments'] = atc['num_comments']\n",
        "                \n",
        "            articles.append(atc_info)\n",
        "    # print('articles:', articles)\n",
        "    answer = sorted(articles, key= lambda x: (-x['num_comments'], x['title']))[:limit]\n",
        "    \n",
        "    return [x['title'] for x in answer]\n",
        "\n",
        "print(topArticles(2))\n"
      ]
    }
  ]
}