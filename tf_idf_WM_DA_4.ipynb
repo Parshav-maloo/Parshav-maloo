{
  "nbformat": 4,
  "nbformat_minor": 0,
  "metadata": {
    "colab": {
      "name": "tf idf WM DA 4.ipynb",
      "provenance": [],
      "collapsed_sections": [],
      "authorship_tag": "ABX9TyMphRfWegCGTPIFxk2xjjNW",
      "include_colab_link": true
    },
    "kernelspec": {
      "name": "python3",
      "display_name": "Python 3"
    },
    "language_info": {
      "name": "python"
    }
  },
  "cells": [
    {
      "cell_type": "markdown",
      "metadata": {
        "id": "view-in-github",
        "colab_type": "text"
      },
      "source": [
        "<a href=\"https://colab.research.google.com/github/Parshav-maloo/Parshav-maloo/blob/main/tf_idf_WM_DA_4.ipynb\" target=\"_parent\"><img src=\"https://colab.research.google.com/assets/colab-badge.svg\" alt=\"Open In Colab\"/></a>"
      ]
    },
    {
      "cell_type": "code",
      "execution_count": null,
      "metadata": {
        "id": "Ok4c_9w3DGuS"
      },
      "outputs": [],
      "source": [
        "from sklearn.feature_extraction.text import TfidfVectorizer\n"
      ]
    },
    {
      "cell_type": "code",
      "source": [
        "d0 = 'VIT Vellore University'\n",
        "d1 = 'VIT'\n",
        "d2 = 'Web'\n",
        "  \n",
        "\n",
        "string = [d0, d1, d2]"
      ],
      "metadata": {
        "id": "8h3hKNvmDpzd"
      },
      "execution_count": null,
      "outputs": []
    },
    {
      "cell_type": "code",
      "source": [
        "\n",
        "tfidf = TfidfVectorizer()\n",
        "  \n",
        "\n",
        "result = tfidf.fit_transform(string)"
      ],
      "metadata": {
        "id": "3DluP3d-EEJO"
      },
      "execution_count": null,
      "outputs": []
    },
    {
      "cell_type": "code",
      "source": [
        "# get idf values\n",
        "print('\\nidf values:')\n",
        "for ele1, ele2 in zip(tfidf.get_feature_names(), tfidf.idf_):\n",
        "\tprint(ele1, ':', ele2)\n",
        "\n"
      ],
      "metadata": {
        "colab": {
          "base_uri": "https://localhost:8080/"
        },
        "id": "uGqzc7LpEG3G",
        "outputId": "1d7ba272-f217-4b9a-f6a8-71549f328b38"
      },
      "execution_count": null,
      "outputs": [
        {
          "output_type": "stream",
          "name": "stdout",
          "text": [
            "\n",
            "idf values:\n",
            "university : 1.6931471805599454\n",
            "vellore : 1.6931471805599454\n",
            "vit : 1.2876820724517808\n",
            "web : 1.6931471805599454\n"
          ]
        },
        {
          "output_type": "stream",
          "name": "stderr",
          "text": [
            "/usr/local/lib/python3.7/dist-packages/sklearn/utils/deprecation.py:87: FutureWarning: Function get_feature_names is deprecated; get_feature_names is deprecated in 1.0 and will be removed in 1.2. Please use get_feature_names_out instead.\n",
            "  warnings.warn(msg, category=FutureWarning)\n"
          ]
        }
      ]
    },
    {
      "cell_type": "code",
      "source": [
        "#ELIAS DELTA ENCODING\n",
        "from math import log\n",
        "from math import floor\n",
        "\n",
        "def Binary_Representation_Without_MSB(x):\n",
        "\tbinary = \"{0:b}\".format(int(x))\n",
        "\tbinary_without_MSB = binary[1:]\n",
        "\treturn binary_without_MSB\n",
        "\n",
        "def EliasGammaEncode(k):\n",
        "\tif (k == 0):\n",
        "\t\treturn '0'\n",
        "\tN = 1 + floor(log(k, 2))\n",
        "\tUnary = (N-1)*'0'+'1'\n",
        "\treturn Unary + Binary_Representation_Without_MSB(k)\n",
        "\n",
        "def EliasDeltaEncode(x):\n",
        "\tGamma = EliasGammaEncode(1 + floor(log(k, 2)))\n",
        "\tbinary_without_MSB = Binary_Representation_Without_MSB(k)\n",
        "\treturn Gamma+binary_without_MSB\n",
        "\n",
        "k = 14\n",
        "print(EliasDeltaEncode(k))\n",
        "\n"
      ],
      "metadata": {
        "colab": {
          "base_uri": "https://localhost:8080/"
        },
        "id": "NVotcORpGtPT",
        "outputId": "b80509ce-3941-4b17-8238-a60ffac530de"
      },
      "execution_count": null,
      "outputs": [
        {
          "output_type": "stream",
          "name": "stdout",
          "text": [
            "00100110\n"
          ]
        }
      ]
    },
    {
      "cell_type": "code",
      "source": [
        "#ELIAS DELTA DECODEING\n",
        "import math\n",
        "\n",
        "def Elias_Delta_Decoding(x):\n",
        "\tx = list(x)\n",
        "\tL=0\n",
        "\twhile True:\n",
        "\t\tif not x[L] == '0':\n",
        "\t\t\tbreak\n",
        "\t\tL= L + 1\n",
        "\t\n",
        "\tx=x[2*L+1:]\n",
        "\t\n",
        "\tx.insert(0,'1')\n",
        "\tx.reverse()\n",
        "\tn=0\n",
        "\t\n",
        "\tfor i in range(len(x)):\n",
        "\t\tif x[i]=='1':\n",
        "\t\t\tn=n+math.pow(2,i)\n",
        "\treturn int(n)\n",
        "\n",
        "x = '00100110'\n",
        "print(Elias_Delta_Decoding(x))\n",
        "\n"
      ],
      "metadata": {
        "colab": {
          "base_uri": "https://localhost:8080/"
        },
        "id": "DCCEaJhLHuu9",
        "outputId": "e7df3ae1-6836-4107-a3c0-ddbcb77dbc45"
      },
      "execution_count": null,
      "outputs": [
        {
          "output_type": "stream",
          "name": "stdout",
          "text": [
            "14\n"
          ]
        }
      ]
    }
  ]
}