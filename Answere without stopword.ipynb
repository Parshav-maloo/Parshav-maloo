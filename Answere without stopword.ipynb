{
  "nbformat": 4,
  "nbformat_minor": 0,
  "metadata": {
    "colab": {
      "name": "WMDA1.ipynb",
      "provenance": [],
      "authorship_tag": "ABX9TyNK50L0p65N/QeFp/3VXEeI",
      "include_colab_link": true
    },
    "kernelspec": {
      "name": "python3",
      "display_name": "Python 3"
    },
    "language_info": {
      "name": "python"
    }
  },
  "cells": [
    {
      "cell_type": "markdown",
      "metadata": {
        "id": "view-in-github",
        "colab_type": "text"
      },
      "source": [
        "<a href=\"https://colab.research.google.com/github/Parshav-maloo/Parshav-maloo/blob/main/Answere%20without%20stopword.ipynb\" target=\"_parent\"><img src=\"https://colab.research.google.com/assets/colab-badge.svg\" alt=\"Open In Colab\"/></a>"
      ]
    },
    {
      "cell_type": "code",
      "execution_count": null,
      "metadata": {
        "colab": {
          "base_uri": "https://localhost:8080/"
        },
        "id": "OQ8BNqnyYhfK",
        "outputId": "5c4b6723-74fb-44c9-c571-4b61410e00dc"
      },
      "outputs": [
        {
          "output_type": "stream",
          "name": "stdout",
          "text": [
            "[nltk_data] Downloading package stopwords to /root/nltk_data...\n",
            "[nltk_data]   Unzipping corpora/stopwords.zip.\n",
            "Answer without stop words:  ['What', 'Web', 'Mining', '?', 'Web', 'Mining', 'process', '‘', '’', 'Data', 'Mining', '”', 'techniques', ',', 'extract', 'information', 'Web', 'documents', 'services', '.', 'The', 'main', 'purpose', 'web', 'mining', 'discovering', 'useful', 'information', 'World-Wide', 'Web', '’', 'usage', 'patterns', '.']\n",
            "Answer without stopwords and punctuation marks: ['What', 'Web', 'Mining', 'Web', 'Mining', 'process', 'Data', 'Mining', 'techniques', 'extract', 'information', 'Web', 'documents', 'services', 'The', 'main', 'purpose', 'web', 'mining', 'discovering', 'useful', 'information', 'Web', 'usage', 'patterns']\n"
          ]
        }
      ],
      "source": [
        "#19BCE2219\n",
        "from nltk.text import TextCollection\n",
        "import nltk\n",
        "nltk.download('stopwords')\n",
        "from nltk.corpus import stopwords\n",
        "stop_words = set(stopwords.words('english'))\n",
        "text = \"What is Web Mining? Web Mining is the process of ‘’Data Mining” techniques, and extract information from Web documents and services. The main purpose of web mining is discovering useful information from the World-Wide Web and it’s usage patterns.\"\n",
        "word_tokens = nltk.word_tokenize(text)\n",
        "answer = [w for w in word_tokens if not w.lower() in stop_words] \n",
        "answer = []\n",
        "for w in word_tokens:\n",
        "  if w not in stop_words: \n",
        "    answer.append(w)\n",
        "print(\"Answer without stop words: \" , answer)\n",
        "new_words= [word for word in answer if word.isalnum()] \n",
        "print(\"Answer without stopwords and punctuation marks:\" , new_words)"
      ]
    }
  ]
}